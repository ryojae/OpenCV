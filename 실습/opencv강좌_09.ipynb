{
  "nbformat": 4,
  "nbformat_minor": 0,
  "metadata": {
    "colab": {
      "provenance": []
    },
    "kernelspec": {
      "name": "python3",
      "display_name": "Python 3"
    },
    "language_info": {
      "name": "python"
    }
  },
  "cells": [
    {
      "cell_type": "markdown",
      "source": [
        "#9장 머신러닝"
      ],
      "metadata": {
        "id": "nleeq3DfS8uS"
      }
    },
    {
      "cell_type": "code",
      "source": [
        "import cv2\n",
        "cv2.__version__"
      ],
      "metadata": {
        "colab": {
          "base_uri": "https://localhost:8080/",
          "height": 35
        },
        "id": "pNd0xupaAhqX",
        "outputId": "197f9ba3-cf49-4e14-eb6f-a87127e39907"
      },
      "execution_count": null,
      "outputs": [
        {
          "output_type": "execute_result",
          "data": {
            "text/plain": [
              "'4.10.0'"
            ],
            "application/vnd.google.colaboratory.intrinsic+json": {
              "type": "string"
            }
          },
          "metadata": {},
          "execution_count": 1
        }
      ]
    },
    {
      "cell_type": "code",
      "source": [
        "from google.colab.patches import cv2_imshow"
      ],
      "metadata": {
        "id": "1eZywmkJUVDl"
      },
      "execution_count": null,
      "outputs": []
    },
    {
      "cell_type": "code",
      "execution_count": null,
      "metadata": {
        "colab": {
          "base_uri": "https://localhost:8080/"
        },
        "id": "SejGdE01I-_6",
        "outputId": "146168ec-0edb-47e5-b827-45d0ca6b6c99"
      },
      "outputs": [
        {
          "output_type": "stream",
          "name": "stdout",
          "text": [
            "Cloning into 'insightbook.opencv_project_python'...\n",
            "remote: Enumerating objects: 469, done.\u001b[K\n",
            "remote: Counting objects: 100% (80/80), done.\u001b[K\n",
            "remote: Compressing objects: 100% (64/64), done.\u001b[K\n",
            "remote: Total 469 (delta 23), reused 38 (delta 16), pack-reused 389 (from 1)\u001b[K\n",
            "Receiving objects: 100% (469/469), 30.72 MiB | 11.70 MiB/s, done.\n",
            "Resolving deltas: 100% (39/39), done.\n",
            "Updating files: 100% (370/370), done.\n"
          ]
        }
      ],
      "source": [
        "!git clone https://github.com/dltpdn/insightbook.opencv_project_python"
      ]
    },
    {
      "cell_type": "code",
      "source": [
        "%cd /content/insightbook.opencv_project_python/09.ml"
      ],
      "metadata": {
        "colab": {
          "base_uri": "https://localhost:8080/"
        },
        "outputId": "39493824-507f-4019-ec87-49cc7c814dbd",
        "id": "Prn3LxVCLJzX"
      },
      "execution_count": null,
      "outputs": [
        {
          "output_type": "stream",
          "name": "stdout",
          "text": [
            "/content/insightbook.opencv_project_python/09.ml\n"
          ]
        }
      ]
    },
    {
      "cell_type": "markdown",
      "source": [
        "##9.1 OpenCV와 머신러닝"
      ],
      "metadata": {
        "id": "LUarZLn9S_iv"
      }
    },
    {
      "cell_type": "markdown",
      "source": [
        "### 9.1.1 머신러닝"
      ],
      "metadata": {
        "id": "17TsCAFxO9pE"
      }
    },
    {
      "cell_type": "markdown",
      "source": [
        "### 9.1.2 OpenCV와 머신러닝"
      ],
      "metadata": {
        "id": "Wqslj5DpPEH7"
      }
    },
    {
      "cell_type": "markdown",
      "source": [
        "##9.2 k-means 클러스터"
      ],
      "metadata": {
        "id": "m_OpEI1bTBnG"
      }
    },
    {
      "cell_type": "markdown",
      "source": [
        "### 9.2.1 k-means 알고리즘"
      ],
      "metadata": {
        "id": "q2Y2KvDoPLlz"
      }
    },
    {
      "cell_type": "code",
      "source": [
        "!python k-means_random.py"
      ],
      "metadata": {
        "id": "fw0oBnI82WiN"
      },
      "execution_count": null,
      "outputs": []
    },
    {
      "cell_type": "code",
      "source": [
        "import numpy as np, cv2\n",
        "import matplotlib.pyplot as plt\n",
        "\n",
        "# 0~150 임의의 2수, 25개 ---①\n",
        "a = np.random.randint(0,150,(25,2))\n",
        "# 128~255 임의의 2수, 25개  ---②\n",
        "b = np.random.randint(128, 255,(25,2))\n",
        "# a, b를 병합 ---③\n",
        "data = np.vstack((a,b)).astype(np.float32)\n",
        "# 중지 요건 ---④\n",
        "criteria = (cv2.TERM_CRITERIA_EPS + cv2.TERM_CRITERIA_MAX_ITER, 10, 1.0)\n",
        "# 평균 클러스터링 적용 ---⑤\n",
        "ret,label,center=cv2.kmeans(data,2,None,criteria,10,cv2.KMEANS_RANDOM_CENTERS)\n",
        "# label에 따라 결과 분류 ---⑥\n",
        "red = data[label.ravel()==0]\n",
        "blue = data[label.ravel()==1]\n",
        "\n",
        "# plot에 결과 출력 ---⑦\n",
        "plt.scatter(red[:,0],red[:,1], c='r')\n",
        "plt.scatter(blue[:,0],blue[:,1], c='b')\n",
        "# 각 그룹의 중앙점 출력 ---⑧\n",
        "plt.scatter(center[0,0],center[0,1], s=100, c='r', marker='s')\n",
        "plt.scatter(center[1,0],center[1,1], s=100, c='b', marker='s')\n",
        "plt.show()"
      ],
      "metadata": {
        "colab": {
          "base_uri": "https://localhost:8080/",
          "height": 430
        },
        "id": "hweHajbBZGv4",
        "outputId": "1d656216-1092-4da5-a67f-d80c95fd6892"
      },
      "execution_count": null,
      "outputs": [
        {
          "output_type": "display_data",
          "data": {
            "text/plain": [
              "<Figure size 640x480 with 1 Axes>"
            ],
            "image/png": "[encoded data removed]"
          },
          "metadata": {}
        }
      ]
    },
    {
      "cell_type": "code",
      "source": [
        "!python k-means_color.py"
      ],
      "metadata": {
        "id": "ZksU-Hm22Yp1"
      },
      "execution_count": null,
      "outputs": []
    },
    {
      "cell_type": "code",
      "source": [
        "import numpy as np\n",
        "import cv2\n",
        "\n",
        "K = 16 # 군집화 갯수(16컬러) ---①\n",
        "img = cv2.imread('../img/taekwonv1.jpg')\n",
        "# 군집화를 위한 데이타 구조와 형식 변환 ---②\n",
        "data = img.reshape((-1,3)).astype(np.float32)\n",
        "# 반복 중지 요건 ---③\n",
        "criteria = (cv2.TERM_CRITERIA_EPS + cv2.TERM_CRITERIA_MAX_ITER, 10, 1.0)\n",
        "# 평균 클러스터링 적용 ---④\n",
        "ret,label,center=cv2.kmeans(data,K,None,criteria,10,cv2.KMEANS_RANDOM_CENTERS)\n",
        "# 중심 값을 정수형으로 변환 ---⑤\n",
        "center = np.uint8(center)\n",
        "print(center)\n",
        "# 각 레이블에 해당하는 중심값으로 픽셀 값 선택 ---⑥\n",
        "res = center[label.flatten()]\n",
        "# 원본 영상의 형태로 변환 ---⑦\n",
        "res = res.reshape((img.shape))\n",
        "# 결과 출력 ---⑧\n",
        "merged = np.hstack((img, res))\n",
        "#cv2.imshow('KMeans Color',merged)\n",
        "cv2_imshow(merged)\n",
        "cv2.waitKey(0)\n",
        "cv2.destroyAllWindows()"
      ],
      "metadata": {
        "colab": {
          "base_uri": "https://localhost:8080/",
          "height": 665
        },
        "id": "Fu2gTfbMZOFI",
        "outputId": "9fa640d7-ba92-454d-9bfd-7149fb0dd9b5"
      },
      "execution_count": null,
      "outputs": [
        {
          "output_type": "stream",
          "name": "stdout",
          "text": [
            "[[ 20  17 148]\n",
            " [129 109  73]\n",
            " [104  56  25]\n",
            " [ 73  74 183]\n",
            " [201 132  49]\n",
            " [ 17 106 129]\n",
            " [202 205 205]\n",
            " [147 150 149]\n",
            " [ 53 182 197]\n",
            " [188 190 189]\n",
            " [158 134  89]\n",
            " [204 170 116]\n",
            " [154  84  22]\n",
            " [  9 140 180]\n",
            " [213 216 218]\n",
            " [ 58  26  12]]\n"
          ]
        },
        {
          "output_type": "display_data",
          "data": {
            "text/plain": [
              "<PIL.Image.Image image mode=RGB size=800x444>"
            ],
            "image/png": "[encoded data removed]"
          },
          "metadata": {}
        }
      ]
    },
    {
      "cell_type": "markdown",
      "source": [
        "### 9.2.2 숫자 손글씨 군집화"
      ],
      "metadata": {
        "id": "L7Y6ZkyuPZG1"
      }
    },
    {
      "cell_type": "code",
      "source": [
        "!python mnist.py"
      ],
      "metadata": {
        "id": "b-2AGoyi2Ygz"
      },
      "execution_count": null,
      "outputs": []
    },
    {
      "cell_type": "code",
      "source": [
        "import numpy as np, cv2\n",
        "\n",
        "data = None  # 이미지 데이타 셋\n",
        "k = list(range(10)) # [0,1,2,3,4,5,6,7,8,9] 레이블 셋\n",
        "\n",
        "# 이미지 데이타 읽어들이는 함수 ---①\n",
        "def load():\n",
        "    global data\n",
        "    # 0~9 각각 500(5x100)개, 총5000(50x100)개, 한 숫자당 400(20x20)픽셀\n",
        "    image = cv2.imread('../img/digits.png')\n",
        "    gray = cv2.cvtColor(image,cv2.COLOR_BGR2GRAY)\n",
        "    # 숫자 한개(20x20)씩 구분하기 위해 행별(50)로 나누고 열별(100)로 나누기\n",
        "    cells = [np.hsplit(row,100) for row in np.vsplit(gray,50)]\n",
        "    # 리스트를 NumPy 배열로  변환 (50 x 100 x 20 x 20 )\n",
        "    data = np.array(cells)\n",
        "\n",
        "# 모든 숫자 데이타 반환 ---②\n",
        "def getData(reshape=True):\n",
        "    if data is None: load() # 이미지 읽기 확인\n",
        "    # 모든 데이타를 N x 400 형태로 변환\n",
        "    if reshape:\n",
        "        full = data.reshape(-1, 400).astype(np.float32) # 5000x400\n",
        "    else:\n",
        "        full = data\n",
        "    labels = np.repeat(k,500).reshape(-1,1)  # 각 숫자당 500번 반복(10x500)\n",
        "    return (full, labels)\n",
        "\n",
        "# 훈련용 데이타 반환 ---③\n",
        "def getTrain(reshape=True):\n",
        "    if data is None: load() # 이미지 읽기 확인\n",
        "    # 50x100 중에 90열만 훈련 데이타로 사용\n",
        "    train = data[:,:90]\n",
        "    if reshape:\n",
        "        # 훈련 데이타를 N X 400으로 변환\n",
        "        train = train.reshape(-1,400).astype(np.float32) # 4500x400\n",
        "    # 레이블 생성\n",
        "    train_labels = np.repeat(k,450).reshape(-1,1) # 각 숫자당 45번 반복(10x450)\n",
        "    return (train, train_labels)\n",
        "\n",
        "# 테스트용 데이타 반환 ---④\n",
        "def getTest(reshape=True):\n",
        "    if data is None: load()\n",
        "    # 50x100 중에 마지막 10열만 훈련 데이타로 사용\n",
        "    test = data[:,90:100]\n",
        "    # 테스트 데이타를 N x 400으로 변환\n",
        "    if reshape:\n",
        "        test = test.reshape(-1,400).astype(np.float32) # 500x400\n",
        "    test_labels = np.repeat(k,50).reshape(-1,1)\n",
        "    return (test, test_labels)\n",
        "\n",
        "\n",
        "# 손글씨 숫자 한 개를 20x20 로 변환후에 1x400 형태로 변환 ---⑤\n",
        "def digit2data(src, reshape=True):\n",
        "    h, w = src.shape[:2]\n",
        "    square = src\n",
        "    # 정사각형 형태로 만들기\n",
        "    if h > w:\n",
        "        pad = (h - w)//2\n",
        "        square = np.zeros((h, h), dtype=np.uint8)\n",
        "        square[:, pad:pad+w] = src\n",
        "    elif w > h :\n",
        "        pad = (w - h)//2\n",
        "        square = np.zeros((w, w), dtype=np.uint8)\n",
        "        square[pad:pad+h, :] = src\n",
        "    # 0으로 채워진 20x20 이미지 생성\n",
        "    px20 = np.zeros((20,20), np.uint8)\n",
        "    # 원본을 16x16으로 축소해서 테두리 2픽셀 확보\n",
        "    px20[2:18, 2:18] = cv2.resize(square, (16,16), interpolation=cv2.INTER_AREA)\n",
        "    if reshape:\n",
        "        # 1x400형태로 변환\n",
        "        px20 = px20.reshape((1,400)).astype(np.float32)\n",
        "    return px20"
      ],
      "metadata": {
        "id": "kevPTh53ZfYr"
      },
      "execution_count": null,
      "outputs": []
    },
    {
      "cell_type": "code",
      "source": [
        "!python k-means_handwritten.py"
      ],
      "metadata": {
        "id": "2j-h2UrX2YVx"
      },
      "execution_count": null,
      "outputs": []
    },
    {
      "cell_type": "code",
      "source": [
        "import numpy as np, cv2\n",
        "import mnist\n",
        "\n",
        "# 훈련 데이타 가져오기 ---①\n",
        "train, train_labels = mnist.getData()\n",
        "# Knn 객체 생성 및 학습 ---②\n",
        "knn = cv2.ml.KNearest_create()\n",
        "knn.train(train, cv2.ml.ROW_SAMPLE, train_labels)\n",
        "\n",
        "# 인식시킬 손글씨 이미지 읽기 ---③\n",
        "image = cv2.imread('../img/4027.png')\n",
        "#cv2.imshow(\"image\", image)\n",
        "cv2_imshow(image)\n",
        "cv2.waitKey(0)\n",
        "\n",
        "# 그레이 스케일 변환과 스레시홀드 ---④\n",
        "gray = cv2.cvtColor(image,cv2.COLOR_BGR2GRAY)\n",
        "gray = cv2.GaussianBlur(gray, (5, 5), 0)\n",
        "_, gray = cv2.threshold(gray, 127, 255, cv2.THRESH_BINARY_INV)\n",
        "# 최외곽 컨투어만 찾기 ---⑤\n",
        "contours, _ = cv2.findContours(gray, cv2.RETR_EXTERNAL, \\\n",
        "                                        cv2.CHAIN_APPROX_SIMPLE)[-2:]\n",
        "# 모든 컨투어 순회 ---⑥\n",
        "for c in contours:\n",
        "    # 컨투어를 감싸는 외접 사각형으로 숫자 영역 좌표 구하기 ---⑦\n",
        "    (x, y, w, h) = cv2.boundingRect(c)\n",
        "    # 외접 사각형의 크기가 너무 작은것은 제외 ---⑧\n",
        "    if w >= 5 and h >= 25:\n",
        "        # 숫자 영역만 roi로 확보하고 사각형 그리기 ---⑨\n",
        "        roi = gray[y:y + h, x:x + w]\n",
        "        cv2.rectangle(image, (x, y), (x + w, y + h), (0, 255, 0), 1)\n",
        "        # 테스트 데이타 형식으로 변환 ---⑩\n",
        "        data = mnist.digit2data(roi)\n",
        "        # 결과 예측해서 이미지에 표시---⑪\n",
        "        ret, result, neighbours, dist = knn.findNearest(data, k=1)\n",
        "        cv2.putText(image, \"%d\"%ret, (x , y + 155), \\\n",
        "                        cv2.FONT_HERSHEY_DUPLEX, 2, (255, 0, 0), 2)\n",
        "        #cv2.imshow(\"image\", image)\n",
        "        cv2_imshow(image)\n",
        "        cv2.waitKey(0)\n",
        "cv2.destroyAllWindows()"
      ],
      "metadata": {
        "colab": {
          "base_uri": "https://localhost:8080/",
          "height": 1000
        },
        "id": "tsY7hJMQZxxV",
        "outputId": "b68ab4a3-1fb5-41dc-f1e1-eb5cce3e6553"
      },
      "execution_count": null,
      "outputs": [
        {
          "output_type": "display_data",
          "data": {
            "text/plain": [
              "<PIL.Image.Image image mode=RGB size=600x200>"
            ],
            "image/png": "[encoded data removed]"
          },
          "metadata": {}
        },
        {
          "output_type": "display_data",
          "data": {
            "text/plain": [
              "<PIL.Image.Image image mode=RGB size=600x200>"
            ],
            "image/png": "[encoded data removed]"
          },
          "metadata": {}
        },
        {
          "output_type": "display_data",
          "data": {
            "text/plain": [
              "<PIL.Image.Image image mode=RGB size=600x200>"
            ],
            "image/png": "[encoded data removed]"
          },
          "metadata": {}
        },
        {
          "output_type": "display_data",
          "data": {
            "text/plain": [
              "<PIL.Image.Image image mode=RGB size=600x200>"
            ],
            "image/png": "[encoded data removed]"
          },
          "metadata": {}
        },
        {
          "output_type": "display_data",
          "data": {
            "text/plain": [
              "<PIL.Image.Image image mode=RGB size=600x200>"
            ],
            "image/png": "[encoded data removed]"
          },
          "metadata": {}
        }
      ]
    },
    {
      "cell_type": "markdown",
      "source": [
        "##9.3 k-NN"
      ],
      "metadata": {
        "id": "FyBb-9n_TDri"
      }
    },
    {
      "cell_type": "markdown",
      "source": [
        "### 9.3.1 k-NN 알고리즘"
      ],
      "metadata": {
        "id": "NHna8sydPfhk"
      }
    },
    {
      "cell_type": "code",
      "source": [
        "!python kNN_random.py"
      ],
      "metadata": {
        "id": "vhe7fJAP2e8k"
      },
      "execution_count": null,
      "outputs": []
    },
    {
      "cell_type": "code",
      "source": [
        "import cv2,  numpy as np,  matplotlib.pyplot as plt\n",
        "\n",
        "# 0~200 사이의 무작위 수 50x2개 데이타 생성 ---①\n",
        "red = np.random.randint(0, 110, (25,2)).astype(np.float32)\n",
        "blue = np.random.randint(90, 200, (25, 2)).astype(np.float32)\n",
        "trainData = np.vstack((red, blue))\n",
        "\n",
        "# 50x1개 레이블 생성 ---②\n",
        "labels = np.zeros((50,1), dtype=np.float32) # 0:빨강색 삼각형\n",
        "labels[25:] = 1           # 1:파랑색 사각형\n",
        "\n",
        "# 레이블 값 0과 같은 자리는 red, 1과 같은 자리는 blue로 분류해서 표시\n",
        "plt.scatter(red[:,0], red[:,1], 80, 'r', '^') # 빨강색 삼각형\n",
        "plt.scatter(blue[:,0], blue[:,1], 80, 'b', 's')# 파랑색 사각형\n",
        "\n",
        "# 0 ~ 200 사이의 1개의 새로운 무작위 수 생성 ---③\n",
        "newcomer = np.random.randint(0,200,(1,2)).astype(np.float32)\n",
        "plt.scatter(newcomer[:,0],newcomer[:,1],80,'g','o') # 초록색 원\n",
        "\n",
        "# KNearest 알고리즘 객체 생성 ---④\n",
        "knn = cv2.ml.KNearest_create()\n",
        "# train, 행 단위 샘플 ---⑤\n",
        "knn.train(trainData, cv2.ml.ROW_SAMPLE, labels)\n",
        "# 예측 ---⑥\n",
        "#ret, results = knn.predict(newcomer)\n",
        "ret, results, neighbours ,dist = knn.findNearest(newcomer, 3)#K=3\n",
        "# 결과 출력\n",
        "print('ret:%s, result:%s, negibours:%s, distance:%s' \\\n",
        "        %(ret,results, neighbours, dist))\n",
        "plt.annotate('red' if ret==0.0 else 'blue', xy=newcomer[0], \\\n",
        "             xytext=(newcomer[0]+1))\n",
        "plt.show()"
      ],
      "metadata": {
        "colab": {
          "base_uri": "https://localhost:8080/",
          "height": 449
        },
        "id": "u2sqOJpaaH7_",
        "outputId": "34501ec1-bd88-439f-c8b5-54945c50e8f4"
      },
      "execution_count": null,
      "outputs": [
        {
          "output_type": "stream",
          "name": "stdout",
          "text": [
            "ret:1.0, result:[[1.]], negibours:[[1. 0. 1.]], distance:[[5792. 5858. 5945.]]\n"
          ]
        },
        {
          "output_type": "display_data",
          "data": {
            "text/plain": [
              "<Figure size 640x480 with 1 Axes>"
            ],
            "image/png": "[encoded data removed]"
          },
          "metadata": {}
        }
      ]
    },
    {
      "cell_type": "code",
      "source": [
        "!python kNN_movie.py"
      ],
      "metadata": {
        "id": "If4QRiYI2hPZ"
      },
      "execution_count": null,
      "outputs": []
    },
    {
      "cell_type": "code",
      "source": [
        "import cv2\n",
        "import numpy as np\n",
        "import matplotlib.pyplot as plt\n",
        "\n",
        "# 0~99 사이의 랜덤 값 25x2 ---①\n",
        "trainData = np.random.randint(0,100,(25,2)).astype(np.float32)\n",
        "# trainDatat[0]:kick, trainData[1]:kiss, kick > kiss ? 1 : 0 ---②\n",
        "responses = (trainData[:, 0] >trainData[:,1]).astype(np.float32)\n",
        "# 0: action : 1romantic ---③\n",
        "action = trainData[responses==0]\n",
        "romantic = trainData[responses==1]\n",
        "# action은 파랑 삼각형, romantic은 빨강색 동그라미로 표시 ---④\n",
        "plt.scatter(action[:,0],action[:,1], 80, 'b', '^', label='action')\n",
        "plt.scatter(romantic[:,0],romantic[:,1], 80, 'r', 'o',label=\"romantic\")\n",
        "# 새로운 데이타 생성, 0~99 랜덤 수 1X2, 초록색 사각형으로 표시 ---⑤\n",
        "newcomer = np.random.randint(0,100,(1,2)).astype(np.float32)\n",
        "plt.scatter(newcomer[:,0],newcomer[:,1],200,'g','s', label=\"new\")\n",
        "\n",
        "# Knearest 알고리즘 생성 및 훈련 --- ⑥\n",
        "knn = cv2.ml.KNearest_create()\n",
        "knn.train(trainData, cv2.ml.ROW_SAMPLE, responses)\n",
        "# 결과 예측 ---⑦\n",
        "ret, results, neighbours ,dist = knn.findNearest(newcomer, 3)#K=3\n",
        "print(\"ret:%s, result:%s, neighbours:%s, dist:%s\" \\\n",
        "            %(ret, results, neighbours, dist))\n",
        "# 새로운 결과에 화살표로 표시 ---⑧\n",
        "anno_x, anno_y = newcomer.ravel()\n",
        "label = \"action\" if results == 0 else \"romantic\"\n",
        "plt.annotate(label, xy=(anno_x + 1, anno_y+1), \\\n",
        "            xytext=(anno_x+5, anno_y+10), arrowprops={'color':'black'})\n",
        "plt.xlabel('kiss');plt.ylabel('kick')\n",
        "plt.legend(loc=\"upper right\")\n",
        "plt.show()"
      ],
      "metadata": {
        "colab": {
          "base_uri": "https://localhost:8080/",
          "height": 468
        },
        "id": "2QjPpZldaN-p",
        "outputId": "58625ad8-8663-4a0f-e4c6-ff5d104d68e4"
      },
      "execution_count": null,
      "outputs": [
        {
          "output_type": "stream",
          "name": "stdout",
          "text": [
            "ret:0.0, result:[[0.]], neighbours:[[0. 0. 0.]], dist:[[ 73. 100. 289.]]\n"
          ]
        },
        {
          "output_type": "display_data",
          "data": {
            "text/plain": [
              "<Figure size 640x480 with 1 Axes>"
            ],
            "image/png": "[encoded data removed]"
          },
          "metadata": {}
        }
      ]
    },
    {
      "cell_type": "markdown",
      "source": [
        "### 9.3.2 손글씨 인식"
      ],
      "metadata": {
        "id": "o4Pq-F72PqN4"
      }
    },
    {
      "cell_type": "code",
      "source": [
        "!python kNN_mnist.py"
      ],
      "metadata": {
        "id": "q9HwXi7j2hGF"
      },
      "execution_count": null,
      "outputs": []
    },
    {
      "cell_type": "code",
      "source": [
        "import numpy as np, cv2\n",
        "import mnist\n",
        "\n",
        "# 훈련 데이타와 테스트 데이타 가져오기 ---①\n",
        "train, train_labels = mnist.getTrain()\n",
        "test, test_labels = mnist.getTest()\n",
        "# kNN 객체 생성 및 훈련 ---②\n",
        "knn = cv2.ml.KNearest_create()\n",
        "knn.train(train, cv2.ml.ROW_SAMPLE, train_labels)\n",
        "# k값을 1~10까지 변경하면서 예측 ---③\n",
        "for k in range(1, 11):\n",
        "    # 결과 예측 ---④\n",
        "    ret, result, neighbors, distance = knn.findNearest(test, k=k)\n",
        "    # 정확도 계산 및 출력 ---⑤\n",
        "    correct = np.sum(result == test_labels)\n",
        "    accuracy = correct / result.size * 100.0\n",
        "    print(\"K:%d, Accuracy :%.2f%%(%d/%d)\" % (k, accuracy, correct, result.size) )"
      ],
      "metadata": {
        "colab": {
          "base_uri": "https://localhost:8080/"
        },
        "id": "2H4jBW1SaWdg",
        "outputId": "6d028bba-e221-4749-964b-7a7c9b4bf8c6"
      },
      "execution_count": null,
      "outputs": [
        {
          "output_type": "stream",
          "name": "stdout",
          "text": [
            "K:1, Accuracy :95.40%(477/500)\n",
            "K:2, Accuracy :94.40%(472/500)\n",
            "K:3, Accuracy :95.00%(475/500)\n",
            "K:4, Accuracy :94.40%(472/500)\n",
            "K:5, Accuracy :94.20%(471/500)\n",
            "K:6, Accuracy :94.20%(471/500)\n",
            "K:7, Accuracy :94.40%(472/500)\n",
            "K:8, Accuracy :93.60%(468/500)\n",
            "K:9, Accuracy :93.40%(467/500)\n",
            "K:10, Accuracy :93.00%(465/500)\n"
          ]
        }
      ]
    },
    {
      "cell_type": "code",
      "source": [
        "!python kNN_handwritten.py"
      ],
      "metadata": {
        "id": "b8B_5m-p2g4W"
      },
      "execution_count": null,
      "outputs": []
    },
    {
      "cell_type": "code",
      "source": [
        "import numpy as np, cv2\n",
        "import mnist\n",
        "\n",
        "# 훈련 데이타 가져오기 ---①\n",
        "train, train_labels = mnist.getData()\n",
        "# Knn 객체 생성 및 학습 ---②\n",
        "knn = cv2.ml.KNearest_create()\n",
        "knn.train(train, cv2.ml.ROW_SAMPLE, train_labels)\n",
        "\n",
        "# 인식시킬 손글씨 이미지 읽기 ---③\n",
        "image = cv2.imread('../img/4027.png')\n",
        "#cv2.imshow(\"image\", image)\n",
        "cv2_imshow(image)\n",
        "cv2.waitKey(0)\n",
        "\n",
        "# 그레이 스케일 변환과 스레시홀드 ---④\n",
        "gray = cv2.cvtColor(image,cv2.COLOR_BGR2GRAY)\n",
        "gray = cv2.GaussianBlur(gray, (5, 5), 0)\n",
        "_, gray = cv2.threshold(gray, 127, 255, cv2.THRESH_BINARY_INV)\n",
        "# 최외곽 컨투어만 찾기 ---⑤\n",
        "contours, _ = cv2.findContours(gray, cv2.RETR_EXTERNAL, \\\n",
        "                                        cv2.CHAIN_APPROX_SIMPLE)[-2:]\n",
        "# 모든 컨투어 순회 ---⑥\n",
        "for c in contours:\n",
        "    # 컨투어를 감싸는 외접 사각형으로 숫자 영역 좌표 구하기 ---⑦\n",
        "    (x, y, w, h) = cv2.boundingRect(c)\n",
        "    # 외접 사각형의 크기가 너무 작은것은 제외 ---⑧\n",
        "    if w >= 5 and h >= 25:\n",
        "        # 숫자 영역만 roi로 확보하고 사각형 그리기 ---⑨\n",
        "        roi = gray[y:y + h, x:x + w]\n",
        "        cv2.rectangle(image, (x, y), (x + w, y + h), (0, 255, 0), 1)\n",
        "        # 테스트 데이타 형식으로 변환 ---⑩\n",
        "        data = mnist.digit2data(roi)\n",
        "        # 결과 예측해서 이미지에 표시---⑪\n",
        "        ret, result, neighbours, dist = knn.findNearest(data, k=1)\n",
        "        cv2.putText(image, \"%d\"%ret, (x , y + 155), \\\n",
        "                        cv2.FONT_HERSHEY_DUPLEX, 2, (255, 0, 0), 2)\n",
        "        #cv2.imshow(\"image\", image)\n",
        "        cv2_imshow(image)\n",
        "        cv2.waitKey(0)\n",
        "cv2.destroyAllWindows()"
      ],
      "metadata": {
        "colab": {
          "base_uri": "https://localhost:8080/",
          "height": 1000
        },
        "id": "TgrALA6KahFP",
        "outputId": "42c922b5-84f5-4880-e9db-eebea969a80e"
      },
      "execution_count": null,
      "outputs": [
        {
          "output_type": "display_data",
          "data": {
            "text/plain": [
              "<PIL.Image.Image image mode=RGB size=600x200>"
            ],
            "image/png": "[encoded data removed]"
          },
          "metadata": {}
        },
        {
          "output_type": "display_data",
          "data": {
            "text/plain": [
              "<PIL.Image.Image image mode=RGB size=600x200>"
            ],
            "image/png": "[encoded data removed]"
          },
          "metadata": {}
        },
        {
          "output_type": "display_data",
          "data": {
            "text/plain": [
              "<PIL.Image.Image image mode=RGB size=600x200>"
            ],
            "image/png": "[encoded data removed]"
          },
          "metadata": {}
        },
        {
          "output_type": "display_data",
          "data": {
            "text/plain": [
              "<PIL.Image.Image image mode=RGB size=600x200>"
            ],
            "image/png": "[encoded data removed]"
          },
          "metadata": {}
        },
        {
          "output_type": "display_data",
          "data": {
            "text/plain": [
              "<PIL.Image.Image image mode=RGB size=600x200>"
            ],
            "image/png": "[encoded data removed]"
          },
          "metadata": {}
        }
      ]
    },
    {
      "cell_type": "markdown",
      "source": [
        "##9.4 SVM과 HOG"
      ],
      "metadata": {
        "id": "3lf88PUVTFY8"
      }
    },
    {
      "cell_type": "markdown",
      "source": [
        "### 9.4.1 SVM 알고리즘"
      ],
      "metadata": {
        "id": "mmrcXq9LQCrt"
      }
    },
    {
      "cell_type": "code",
      "source": [
        "!python svm_random.py"
      ],
      "metadata": {
        "id": "mR8m3NmG21Gf"
      },
      "execution_count": null,
      "outputs": []
    },
    {
      "cell_type": "code",
      "source": [
        "import cv2\n",
        "import numpy as np\n",
        "import matplotlib.pylab as plt\n",
        "\n",
        "# 0~158 구간 임의의 수 25 x 2 생성   ---①\n",
        "a = np.random.randint(0,158,(25,2))\n",
        "# 98~255 구간 임의의 수 25 x 2 생성 ---②\n",
        "b = np.random.randint(98, 255,(25,2))\n",
        "# a, b를 병합, 50 x 2의 임의의 수 생성 ---③\n",
        "trainData = np.vstack((a, b)).astype(np.float32)\n",
        "# 0으로 채워진 50개 배열 생성 ---④\n",
        "responses = np.zeros((50,1), np.int32)\n",
        "# 25 ~ 50 까지 1로 변경 ---⑤\n",
        "responses[25:] = 1\n",
        "\n",
        "# 0과 같은 자리의 학습 데이타는 빨강색 삼각형으로 분류 및 표시 ---⑥\n",
        "red = trainData[responses.ravel()==0]\n",
        "plt.scatter(red[:,0],red[:,1],80,'r','^')\n",
        "# 1과 같은 자리의 학습 데이타는 파랑색 사각형으로 분류 및 표시 ---⑦\n",
        "blue = trainData[responses.ravel()==1]\n",
        "plt.scatter(blue[:,0],blue[:,1],80,'b','s')\n",
        "# 0~255 구간의 새로운 임의의 수 생성 및 초록색 원으로 표시 ---⑧\n",
        "newcomer = np.random.randint(0,255,(1,2)).astype(np.float32)\n",
        "plt.scatter(newcomer[:,0],newcomer[:,1],80,'g','o')\n",
        "# SVM 알고리즘 객체 생성 및 훈련---⑨\n",
        "svm = cv2.ml.SVM_create()\n",
        "\n",
        "svm.trainAuto(trainData, cv2.ml.ROW_SAMPLE, responses)\n",
        "# svm_random.xml 로 저장 ---⑩\n",
        "svm.save('./svm_random.xml')\n",
        "# 저장한 모델을 다시 읽기 ---⑪\n",
        "svm2  = cv2.ml.SVM_load('./svm_random.xml')\n",
        "# 새로운 임의의 수 예측 ---⑫\n",
        "ret, results = svm2.predict(newcomer)\n",
        "# 결과 표시 ---⑬\n",
        "plt.annotate('red' if results[0]==0 else 'blue', xy=newcomer[0], xytext=(newcomer[0]+1))\n",
        "print(\"return:%s, results:%s\"%(ret, results))\n",
        "plt.show()"
      ],
      "metadata": {
        "colab": {
          "base_uri": "https://localhost:8080/",
          "height": 449
        },
        "id": "SbmHNBcJa5Av",
        "outputId": "90e32386-f5d9-4bd0-ba47-1185a5ce4eff"
      },
      "execution_count": null,
      "outputs": [
        {
          "output_type": "stream",
          "name": "stdout",
          "text": [
            "return:0.0, results:[[0.]]\n"
          ]
        },
        {
          "output_type": "display_data",
          "data": {
            "text/plain": [
              "<Figure size 640x480 with 1 Axes>"
            ],
            "image/png": "[encoded data removed]"
          },
          "metadata": {}
        }
      ]
    },
    {
      "cell_type": "markdown",
      "source": [
        "### 9.4.2 HOG 디스크립터"
      ],
      "metadata": {
        "id": "r9vSV4iuQN97"
      }
    },
    {
      "cell_type": "code",
      "source": [
        "!python svm_mnist_hog_train.py"
      ],
      "metadata": {
        "id": "JL2ufF6O22r5"
      },
      "execution_count": null,
      "outputs": []
    },
    {
      "cell_type": "code",
      "source": [
        "import cv2\n",
        "import numpy as np\n",
        "import mnist\n",
        "import time\n",
        "\n",
        "# 기울어진 숫자를 바로 세우기 위한 함수 ---①\n",
        "affine_flags = cv2.WARP_INVERSE_MAP|cv2.INTER_LINEAR\n",
        "def deskew(img):\n",
        "    m = cv2.moments(img)\n",
        "    if abs(m['mu02']) < 1e-2:\n",
        "        return img.copy()\n",
        "    skew = m['mu11']/m['mu02']\n",
        "    M = np.float32([[1, skew, -0.5*20*skew], [0, 1, 0]])\n",
        "    img = cv2.warpAffine(img,M,(20, 20),flags=affine_flags)\n",
        "    return img\n",
        "\n",
        "# HOGDescriptor를 위한 파라미터 설정 및 생성---②\n",
        "winSize = (20,20)\n",
        "blockSize = (10,10)\n",
        "blockStride = (5,5)\n",
        "cellSize = (5,5)\n",
        "nbins = 9\n",
        "hogDesc = cv2.HOGDescriptor(winSize,blockSize,blockStride,cellSize,nbins)\n",
        "\n",
        "if __name__ =='__main__':\n",
        "    # MNIST 이미지에서 학습용 이미지와 테스트용 이미지 가져오기 ---③\n",
        "    train_data, train_label  = mnist.getTrain(reshape=False)\n",
        "    test_data, test_label = mnist.getTest(reshape=False)\n",
        "    # 학습 이미지 글씨 바로 세우기 ---④\n",
        "    deskewed = [list(map(deskew,row)) for row in train_data]\n",
        "    # 학습 이미지 HOG 계산 ---⑤\n",
        "    hogdata = [list(map(hogDesc.compute,row)) for row in deskewed]\n",
        "    train_data = np.float32(hogdata)\n",
        "    print('SVM training started...train data:', train_data.shape)\n",
        "    # 학습용 HOG 데이타 재배열  ---⑥\n",
        "    train_data = train_data.reshape(-1,train_data.shape[2])\n",
        "    # SVM 알고리즘 객체 생성 및 훈련 ---⑦\n",
        "    svm = cv2.ml.SVM_create()\n",
        "    startT = time.time()\n",
        "    svm.trainAuto(train_data, cv2.ml.ROW_SAMPLE, train_label)\n",
        "    endT = time.time() - startT\n",
        "    print('SVM training complete. %.2f Min'%(endT/60))\n",
        "    # 훈련된  결과 모델 저장 ---⑧\n",
        "    svm.save('svm_mnist.xml')\n",
        "\n",
        "    # 테스트 이미지 글씨 바로 세우기 및 HOG 계산---⑨\n",
        "    deskewed = [list(map(deskew,row)) for row in test_data]\n",
        "    hogdata = [list(map(hogDesc.compute,row)) for row in deskewed]\n",
        "    test_data = np.float32(hogdata)\n",
        "    # 테스트용 HOG 데이타 재배열 ---⑩\n",
        "    test_data = test_data.reshape(-1,test_data.shape[2])\n",
        "    # 테스트 데이타 결과 예측 ---⑪\n",
        "    ret, result = svm.predict(test_data)\n",
        "    # 예측 결과와 테스트 레이블이 맞은 갯수 합산 및 정확도 출력---⑫\n",
        "    correct = (result==test_label).sum()\n",
        "    print('Accuracy: %.2f%%'%(correct*100.0/result.size))"
      ],
      "metadata": {
        "colab": {
          "base_uri": "https://localhost:8080/"
        },
        "id": "OqerNIV0bFUU",
        "outputId": "e1295815-7cc8-4590-c828-33cec04d8f93"
      },
      "execution_count": null,
      "outputs": [
        {
          "output_type": "stream",
          "name": "stdout",
          "text": [
            "SVM training started...train data: (50, 90, 324)\n"
          ]
        }
      ]
    },
    {
      "cell_type": "code",
      "source": [
        "!python svm_handwritten.py"
      ],
      "metadata": {
        "id": "C9cqjKf524Fw"
      },
      "execution_count": null,
      "outputs": []
    },
    {
      "cell_type": "code",
      "source": [
        "import cv2\n",
        "import numpy as np\n",
        "import mnist\n",
        "import svm_mnist_hog_train\n",
        "\n",
        "\n",
        "# 훈련해서 저장한 SVM 객체 읽기 ---①\n",
        "svm = cv2.ml.SVM_load('./svm_mnist.xml')\n",
        "# 인식할 손글씨 이미지 읽기 ---②\n",
        "image = cv2.imread('../img/4027.png')\n",
        "cv2.imshow(\"image\", image)\n",
        "cv2.waitKey(0)\n",
        "\n",
        "# 인식할 이미지를 그레이 스케일로 변환 및 스레시홀드 적용 ---③\n",
        "gray = cv2.cvtColor(image,cv2.COLOR_BGR2GRAY)\n",
        "gray = cv2.GaussianBlur(gray, (5, 5), 0)\n",
        "_, gray = cv2.threshold(gray, 127, 255, cv2.THRESH_BINARY_INV)\n",
        "\n",
        "# 최외곽 컨투어만 찾기 ---④\n",
        "contours, _ = cv2.findContours(gray, cv2.RETR_EXTERNAL, \\\n",
        "                                        cv2.CHAIN_APPROX_SIMPLE)[-2:]\n",
        "for c in contours:\n",
        "    # 컨투어를 감싸는 외접 사각형 구하기 ---⑤\n",
        "    (x, y, w, h) = cv2.boundingRect(c)\n",
        "    # 외접 사각형의 크기가 너무 작은것은 제외 ---⑥\n",
        "    if w >= 5 and h >= 25:\n",
        "        # 숫자 영역만 roi로 확보하고 사각형 그리기 ---⑦\n",
        "        roi = gray[y:y + h, x:x + w]\n",
        "        cv2.rectangle(image, (x, y), (x + w, y + h), (0, 255, 0), 1)\n",
        "        # 테스트 데이타 형식으로 변환 ---⑧\n",
        "        px20 = mnist.digit2data(roi, False)\n",
        "        # 기울어진 숫자를 바로 세우기 ---⑨\n",
        "        deskewed = svm_mnist_hog_train.deskew(px20)\n",
        "        # 인식할 숫자에 대한 HOG 디스크립터 계산 ---⑩\n",
        "        hogdata = svm_mnist_hog_train.hogDesc.compute(deskewed)\n",
        "        testData = np.float32(hogdata).reshape(-1, hogdata.shape[0])\n",
        "        # 결과 예측해서 표시 ---⑪\n",
        "        ret, result = svm.predict(testData)\n",
        "        cv2.putText(image, \"%d\"%result[0], (x , y + 155), \\\n",
        "                        cv2.FONT_HERSHEY_COMPLEX, 2, (255, 0, 0), 2)\n",
        "        #cv2.imshow(\"image\", image)\n",
        "        cv2_imshow(image)\n",
        "        cv2.waitKey(0)\n",
        "cv2.destroyAllWindows()"
      ],
      "metadata": {
        "id": "KYL8eDaKbPpI"
      },
      "execution_count": null,
      "outputs": []
    },
    {
      "cell_type": "markdown",
      "source": [
        "### 9.4.3 보행자 인식"
      ],
      "metadata": {
        "id": "OrgFK63wQYME"
      }
    },
    {
      "cell_type": "code",
      "source": [
        "!python svm_hog_pedestrian.py"
      ],
      "metadata": {
        "id": "TtL64nwY25qc"
      },
      "execution_count": null,
      "outputs": []
    },
    {
      "cell_type": "code",
      "source": [
        "import cv2\n",
        "\n",
        "# default 디덱터를 위한 HOG 객체 생성 및 설정--- ①\n",
        "hogdef = cv2.HOGDescriptor()\n",
        "hogdef.setSVMDetector(cv2.HOGDescriptor_getDefaultPeopleDetector())\n",
        "\n",
        "# dailer 디덱터를 위한 HOG 객체 생성 및 설정--- ②\n",
        "hogdaim  = cv2.HOGDescriptor((48,96), (16,16), (8,8), (8,8), 9)\n",
        "hogdaim.setSVMDetector(cv2.HOGDescriptor_getDaimlerPeopleDetector())\n",
        "\n",
        "cap = cv2.VideoCapture('../img/walking.avi')\n",
        "mode = True  # 모드 변환을 위한 플래그 변수\n",
        "print('Toggle Space-bar to change mode.')\n",
        "while cap.isOpened():\n",
        "    ret, img = cap.read()\n",
        "    if ret :\n",
        "        if mode:\n",
        "            # default 디텍터로 보행자 검출 --- ③\n",
        "            found, _ = hogdef.detectMultiScale(img)\n",
        "            for (x,y,w,h) in found:\n",
        "                cv2.rectangle(img, (x,y), (x+w, y+h), (0,255,255))\n",
        "        else:\n",
        "            # daimler 디텍터로 보행자 검출 --- ④\n",
        "            found, _ = hogdaim.detectMultiScale(img)\n",
        "            for (x,y,w,h) in found:\n",
        "                cv2.rectangle(img, (x,y), (x+w, y+h), (0,255,0))\n",
        "        cv2.putText(img, 'Detector:%s'%('Default' if mode else 'Daimler'), \\\n",
        "                        (10,50 ), cv2.FONT_HERSHEY_DUPLEX,1, (0,255,0),1)\n",
        "        #cv2.imshow('frame', img)\n",
        "        cv2_imshow(img)\n",
        "        key = cv2.waitKey(1)\n",
        "        if key == 27:\n",
        "            break\n",
        "        elif key == ord(' '):\n",
        "            mode = not mode\n",
        "    else:\n",
        "        break\n",
        "cap.release()\n",
        "cv2.destroyAllWindows()"
      ],
      "metadata": {
        "id": "omZE39RHblba"
      },
      "execution_count": null,
      "outputs": []
    },
    {
      "cell_type": "markdown",
      "source": [
        "##9.5 BOW"
      ],
      "metadata": {
        "id": "wWrXVEY-THKg"
      }
    },
    {
      "cell_type": "markdown",
      "source": [
        "### 9.5.1 BOW 알고리즘과 객체 인식"
      ],
      "metadata": {
        "id": "fILvAGPEQiIb"
      }
    },
    {
      "cell_type": "code",
      "source": [
        "!python bow_plane_bike_train.py"
      ],
      "metadata": {
        "id": "VH8cj-rb2-6U"
      },
      "execution_count": null,
      "outputs": []
    },
    {
      "cell_type": "code",
      "source": [
        "import cv2\n",
        "import numpy as np\n",
        "import os, glob, time\n",
        "\n",
        "# 각종 변수 선언---①\n",
        "startT = time.time()                        # 소요시간 측정을 위한 시간 저장\n",
        "categories =  ['airplanes', 'Motorbikes' ]  # 카테고리 이름\n",
        "dictionary_size = 50                        # 사전 크기, 클러스터 갯수\n",
        "base_path = \"../img/101_ObjectCategories/\"  # 학습 이미지 기본 경로\n",
        "dict_file = './plane_bike_dict.npy'         # 사전 객체 저장할 파일 이름\n",
        "svm_model_file = './plane_bike_svm.xml'     # SVM 모델 객체 저장할 파일 이름\n",
        "\n",
        "# 추출기와 BOW 객체 생 --- ②\n",
        "detector = cv2.xfeatures2d.SIFT_create()    # 추출기로 SIFT 생성\n",
        "matcher = cv2.BFMatcher(cv2.NORM_L2)        # 매칭기로 BF 생성\n",
        "bowTrainer = cv2.BOWKMeansTrainer(dictionary_size) # KMeans로 구현된 BWOTrainer 생성\n",
        "bowExtractor = cv2.BOWImgDescriptorExtractor(detector, matcher) # 히스토그램 계산할 BOW추출기 생성\n",
        "\n",
        "# 특징 디스크립터를 KMeansTrainer에 추가---③\n",
        "train_paths = []                            # 훈련에 사용할 모든 이미지 경로\n",
        "train_labels = []                           # 학습 데이타 레이블\n",
        "print('Adding descriptor to BOWTrainer...')\n",
        "for idx, category in enumerate(categories): # 카테고리 순회\n",
        "    dir_path = base_path + category\n",
        "    img_paths = glob.glob(dir_path +'/*.jpg')\n",
        "    img_len = len(img_paths)\n",
        "    for i, img_path in enumerate(img_paths): # 카테고리 내의 모든 이미지 파일 순회\n",
        "        train_paths.append(img_path)\n",
        "        train_labels.append(idx)            # 학습 데이타 레이블, 0 또는 1\n",
        "        img = cv2.imread(img_path)\n",
        "        gray = cv2.cvtColor(img, cv2.COLOR_BGR2GRAY)\n",
        "        # 특징점과 특징 디스크립터 추출 및 bowTrainer에 추가 ---④\n",
        "        kpt, desc= detector.detectAndCompute(gray, None)\n",
        "        bowTrainer.add(desc)\n",
        "        print('\\t%s %d/%d(%.2f%%)' \\\n",
        "              %(category,i+1, img_len, (i+1)/img_len*100), end='\\r')\n",
        "    print()\n",
        "print('Adding descriptor completed...')\n",
        "\n",
        "# KMeans 클러스터로 군집화하여 시각 사전 생성 및 저장---⑤\n",
        "print('Starting Dictionary clustering(%d)... \\\n",
        "        It will take several time...'%dictionary_size)\n",
        "dictionary = bowTrainer.cluster() # 군집화로 시각 사전 생성\n",
        "np.save(dict_file, dictionary)    # 시각 사전 데이타(넘파일)를 파일로 저장\n",
        "print('Dictionary Clustering completed...dictionary shape:',dictionary.shape)\n",
        "\n",
        "# 시각 사전과 모든 이미지의 매칭점으로 히스토그램 계산---⑥\n",
        "bowExtractor.setVocabulary(dictionary)      # bowExtractor에 시각 사전 셋팅\n",
        "train_desc = []                             # 학습 데이타\n",
        "for i, path in enumerate(train_paths):      # 모든 학습 대상 이미지 순회\n",
        "    img = cv2.imread(path)                  # 이미지 읽기\n",
        "    gray = cv2.cvtColor(img, cv2.COLOR_BGR2GRAY)\n",
        "    # 매칭점에 대한 히스토그램 계산 --- ⑦\n",
        "    hist = bowExtractor.compute(gray, detector.detect(gray))\n",
        "    train_desc.extend(hist)\n",
        "    print('Compute histogram training set...(%.2f%%)'\\\n",
        "                    %((i+1)/len(train_paths)*100),end='\\r')\n",
        "print(\"\\nsvm items\", len(train_desc), len(train_desc[0]))\n",
        "\n",
        "# 히스토그램을 학습데이타로 SVM 훈련 및 모델 저장---⑧\n",
        "print('svm training...')\n",
        "svm = cv2.ml.SVM_create()\n",
        "svm.trainAuto(np.array(train_desc), cv2.ml.ROW_SAMPLE, np.array(train_labels))\n",
        "svm.save(svm_model_file)\n",
        "print('svm training completed.')\n",
        "print('Training Elapsed: %s'\\\n",
        "        %time.strftime('%H:%M:%S', time.gmtime(time.time()-startT)))\n",
        "\n",
        "# 원래의 이미지로 테스트 --- ⑨\n",
        "print(\"Accuracy(Self)\")\n",
        "for label, dir_name in enumerate(categories):\n",
        "    labels = []\n",
        "    results = []\n",
        "    img_paths = glob.glob(base_path + '/'+dir_name +'/*.*')\n",
        "    for img_path in img_paths:\n",
        "        labels.append(label)\n",
        "        img = cv2.imread(img_path)\n",
        "        gray = cv2.cvtColor(img, cv2.COLOR_BGR2GRAY)\n",
        "        feature = bowExtractor.compute(gray, detector.detect(gray))\n",
        "        ret, result = svm.predict(feature)\n",
        "        resp = result[0][0]\n",
        "        results.append(resp)\n",
        "\n",
        "    labels = np.array(labels)\n",
        "    results = np.array(results)\n",
        "    err = (labels != results)\n",
        "    err_mean = err.mean()\n",
        "    print('\\t%s: %.2f %%' % (dir_name, (1 - err_mean)*100))"
      ],
      "metadata": {
        "id": "jtj758Ugb7rl"
      },
      "execution_count": null,
      "outputs": []
    },
    {
      "cell_type": "code",
      "source": [
        "!python bow_plane_bike_test.py"
      ],
      "metadata": {
        "id": "omlx19ON3A9N"
      },
      "execution_count": null,
      "outputs": []
    },
    {
      "cell_type": "code",
      "source": [
        "import cv2\n",
        "import numpy as np\n",
        "\n",
        "categories =  ['airplanes', 'Motorbikes' ]\n",
        "dict_file = './plane_bike_dict.npy'\n",
        "#dict_file = './plane_bike_dict_4000.npy'\n",
        "svm_model_file = './plane_bike_svm.xml'\n",
        "#svm_model_file = './plane_bike_svm_4000.xml'\n",
        "\n",
        "# 테스트 할 이미지 경로 --- ①\n",
        "imgs = ['../img/aircraft.jpg','../img/jetstar.jpg',\n",
        "        '../img/motorcycle.jpg', '../img/motorbike.jpg']\n",
        "\n",
        "# 특징 추출기(SIFT) 생성 ---②\n",
        "detector = cv2.xfeatures2d.SIFT_create()\n",
        "# BOW 추출기 생성 및 사전 로딩 ---③\n",
        "bowextractor = cv2.BOWImgDescriptorExtractor(detector, \\\n",
        "                                cv2.BFMatcher(cv2.NORM_L2))\n",
        "bowextractor.setVocabulary(np.load(dict_file))\n",
        "# 훈련된 모델 읽어서 SVM 객체 생성 --- ④\n",
        "svm  = cv2.ml.SVM_load(svm_model_file)\n",
        "\n",
        "# 4개의 이미지 테스트\n",
        "for i, path in enumerate(imgs):\n",
        "    img = cv2.imread(path)\n",
        "    gray = cv2.cvtColor(img, cv2.COLOR_BGR2GRAY)\n",
        "    # 테스트 이미지에서 BOW 히스토그램 추출 ---⑤\n",
        "    hist = bowextractor.compute(gray, detector.detect(gray))\n",
        "    # SVM 예측 ---⑥\n",
        "    ret, result = svm.predict(hist)\n",
        "    # 결과 표시\n",
        "    name = categories[int(result[0][0])]\n",
        "    txt, base = cv2.getTextSize(name, cv2.FONT_HERSHEY_PLAIN, 2, 3)\n",
        "    x,y = 10, 50\n",
        "    cv2.rectangle(img, (x,y-base-txt[1]), (x+txt[0], y+txt[1]), (30,30,30), -1)\n",
        "    cv2.putText(img, name, (x,y), cv2.FONT_HERSHEY_PLAIN, \\\n",
        "                                 2, (0,255,0), 2, cv2.LINE_AA)\n",
        "    #cv2.imshow(path, img)\n",
        "    cv2_imshow(img)\n",
        "cv2.waitKey(0)\n",
        "cv2.destroyAllWindows()"
      ],
      "metadata": {
        "id": "ZOp0b50NctzQ"
      },
      "execution_count": null,
      "outputs": []
    },
    {
      "cell_type": "markdown",
      "source": [
        "##9.6 캐스케이드 분류기"
      ],
      "metadata": {
        "id": "x0JLKsG-TJE4"
      }
    },
    {
      "cell_type": "markdown",
      "source": [
        "### 9.6.1 하르 캐스케이드 얼굴 검출"
      ],
      "metadata": {
        "id": "NNx0znqPQ3Xj"
      }
    },
    {
      "cell_type": "code",
      "source": [
        "!python haar_face.py"
      ],
      "metadata": {
        "id": "vX6lEE6F3N8b"
      },
      "execution_count": null,
      "outputs": []
    },
    {
      "cell_type": "code",
      "source": [
        "import numpy as np\n",
        "import cv2\n",
        "\n",
        "# 얼굴 검출을 위한 케스케이드 분류기 생성 --- ①\n",
        "face_cascade = cv2.CascadeClassifier('./data/haarcascade_frontalface_default.xml')\n",
        "# 눈 검출을 위한 케스케이드 분류기 생성 ---②\n",
        "eye_cascade = cv2.CascadeClassifier('./data/haarcascade_eye.xml')\n",
        "# 검출할 이미지 읽고 그레이 스케일로 변환 ---③\n",
        "img = cv2.imread('../img/children.jpg')\n",
        "gray = cv2.cvtColor(img, cv2.COLOR_BGR2GRAY)\n",
        "# 얼굴 검출 ---④\n",
        "faces = face_cascade.detectMultiScale(gray)\n",
        "# 검출된 얼굴 순회 ---⑤\n",
        "for (x,y,w,h) in faces:\n",
        "    # 검출된 얼굴에 사각형 표시 ---⑥\n",
        "    cv2.rectangle(img,(x,y),(x+w,y+h),(255,0,0),2)\n",
        "    # 얼굴 영역을 ROI로 설정 ---⑦\n",
        "    roi = gray[y:y+h, x:x+w]\n",
        "    # ROI에서 눈 검출 ---⑧\n",
        "    eyes = eye_cascade.detectMultiScale(roi)\n",
        "    # 검출된 눈에 사각형 표 ---⑨\n",
        "    for (ex,ey,ew,eh) in eyes:\n",
        "        cv2.rectangle(img[y:y+h, x:x+w],(ex,ey),(ex+ew,ey+eh),(0,255,0),2)\n",
        "# 결과 출력\n",
        "#cv2.imshow('img',img)\n",
        "cv2_imshow(img)\n",
        "cv2.waitKey(0)\n",
        "cv2.destroyAllWindows()"
      ],
      "metadata": {
        "id": "Gp5Kx9IVc9AU"
      },
      "execution_count": null,
      "outputs": []
    },
    {
      "cell_type": "code",
      "source": [
        "!python haar_face_cam.py"
      ],
      "metadata": {
        "id": "q6oL1Ij_3NzP"
      },
      "execution_count": null,
      "outputs": []
    },
    {
      "cell_type": "code",
      "source": [
        "import cv2\n",
        "\n",
        "# 얼굴과  검출을 위한 케스케이드 분류기 생성\n",
        "face_cascade = cv2.CascadeClassifier('./data/haarcascade_frontalface_default.xml')\n",
        "eye_cascade = cv2.CascadeClassifier('./data/haarcascade_eye.xml')\n",
        "\n",
        "# 카메라 캡쳐 활성화\n",
        "cap = cv2.VideoCapture(0)\n",
        "while cap.isOpened():\n",
        "    ret, img = cap.read()  # 프레임 읽기\n",
        "    if ret:\n",
        "        gray = cv2.cvtColor(img, cv2.COLOR_BGR2GRAY)\n",
        "        # 얼굴 검출\n",
        "        faces = face_cascade.detectMultiScale(gray, scaleFactor=1.3, \\\n",
        "                                        minNeighbors=5, minSize=(80,80))\n",
        "        for(x,y,w,h) in faces:\n",
        "            cv2.rectangle(img, (x,y), (x+w, y+h), (0, 255,0),2)\n",
        "            roi = gray[y:y+h, x:x+w]\n",
        "            # 눈 검출\n",
        "            eyes = eye_cascade.detectMultiScale(roi)\n",
        "            for i, (ex, ey, ew, eh) in enumerate(eyes):\n",
        "                if i >= 2:\n",
        "                    break\n",
        "                cv2.rectangle(img[y:y+h, x:x+w], (ex,ey), (ex+ew, ey+eh), \\\n",
        "                                    (255,0,0),2)\n",
        "        #cv2.imshow('face detect', img)\n",
        "        cv2_imshow(img)\n",
        "    else:\n",
        "        break\n",
        "    if cv2.waitKey(5) == 27:\n",
        "        break\n",
        "cv2.destroyAllWindows()"
      ],
      "metadata": {
        "id": "1lcgWspNdEX8"
      },
      "execution_count": null,
      "outputs": []
    },
    {
      "cell_type": "markdown",
      "source": [
        "### 9.6.2 LBPH 얼굴 인식"
      ],
      "metadata": {
        "id": "Yqm_mA5dRC7X"
      }
    },
    {
      "cell_type": "code",
      "source": [
        "!python lbp_face1_collect.py"
      ],
      "metadata": {
        "id": "UI38SHL93Nv1"
      },
      "execution_count": null,
      "outputs": []
    },
    {
      "cell_type": "code",
      "source": [
        "import cv2\n",
        "import numpy as np\n",
        "import os\n",
        "\n",
        "# 변수 설정 ---①\n",
        "base_dir = './faces/'   # 사진 저장할 디렉토리 경로\n",
        "target_cnt = 400        # 수집할 사진 갯수\n",
        "cnt = 0                 # 사진 촬영 수\n",
        "\n",
        "# 얼굴 검출 분류기 생성 --- ②\n",
        "face_classifier = cv2.CascadeClassifier(\\\n",
        "                    './data/haarcascade_frontalface_default.xml')\n",
        "\n",
        "# 사용자 이름과 번호를 입력 받아 디렉토리 생성 ---③\n",
        "name = input(\"Insert User Name(Only Alphabet):\")\n",
        "id = input(\"Insert User Id(Non-Duplicate number):\")\n",
        "dir = os.path.join(base_dir, name+'_'+ id)\n",
        "if not os.path.exists(dir):\n",
        "    os.mkdir(dir)\n",
        "\n",
        "# 카메라 캡쳐\n",
        "cap = cv2.VideoCapture(0)\n",
        "while cap.isOpened():\n",
        "    ret, frame = cap.read()\n",
        "    if ret:\n",
        "        img = frame.copy()\n",
        "        gray = cv2.cvtColor(img,cv2.COLOR_BGR2GRAY)\n",
        "        # 얼굴 검출 --- ④\n",
        "        faces = face_classifier.detectMultiScale(gray, 1.3, 5)\n",
        "        if len(faces) == 1:\n",
        "            (x,y,w,h) = faces[0]\n",
        "            # 얼굴 영역 표시 및 파일 저장 ---⑤\n",
        "            cv2.rectangle(frame, (x,y), (x+w, y+h), (0,255,0), 1)\n",
        "            face = gray[y:y+h, x:x+w]\n",
        "            face = cv2.resize(face, (200, 200))\n",
        "            file_name_path = os.path.join(dir,  str(cnt) + '.jpg')\n",
        "            cv2.imwrite(file_name_path, face)\n",
        "            cv2.putText(frame, str(cnt), (x, y), cv2.FONT_HERSHEY_COMPLEX, \\\n",
        "                             1, (0,255,0), 2)\n",
        "            cnt+=1\n",
        "        else:\n",
        "            # 얼굴 검출이 없거나 1이상 인 경우 오류 표시 ---⑥\n",
        "            if len(faces) == 0 :\n",
        "                msg = \"no face.\"\n",
        "            elif len(faces) > 1:\n",
        "                msg = \"too many face.\"\n",
        "            cv2.putText(frame, msg, (10, 50), cv2.FONT_HERSHEY_DUPLEX, \\\n",
        "                            1, (0,0,255))\n",
        "        #cv2.imshow('face record', frame)\n",
        "        cv2_imshow(frame)\n",
        "        if cv2.waitKey(1) == 27 or cnt == target_cnt:\n",
        "            break\n",
        "cap.release()\n",
        "cv2.destroyAllWindows()\n",
        "print(\"Collecting Samples Completed.\")"
      ],
      "metadata": {
        "id": "BJwPjiiOdQf8"
      },
      "execution_count": null,
      "outputs": []
    },
    {
      "cell_type": "code",
      "source": [
        "!python lbp_face2_train.py"
      ],
      "metadata": {
        "id": "TnSHemuE3NhN"
      },
      "execution_count": null,
      "outputs": []
    },
    {
      "cell_type": "code",
      "source": [
        "import cv2\n",
        "import numpy as np\n",
        "import os, glob\n",
        "\n",
        "# 변수 설정 --- ①\n",
        "base_dir = './faces'\n",
        "train_data, train_labels = [], []\n",
        "\n",
        "\n",
        "dirs = [d for d in glob.glob(base_dir+\"/*\") if os.path.isdir(d)]\n",
        "print('Collecting train data set:')\n",
        "for dir in dirs:\n",
        "    # name_id 형식에서 id를 분리 ---②\n",
        "    id = dir.split('_')[1]\n",
        "    files = glob.glob(dir+'/*.jpg')\n",
        "    print('\\t path:%s, %dfiles'%(dir, len(files)))\n",
        "    for file in files:\n",
        "        img = cv2.imread(file, cv2.IMREAD_GRAYSCALE)\n",
        "        # 이미지는 train_data, 아이디는 train_lables에 저장 ---③\n",
        "        train_data.append(np.asarray(img, dtype=np.uint8))\n",
        "        train_labels.append(int(id))\n",
        "\n",
        "# NumPy 배열로 변환 ---④\n",
        "train_data = np.asarray(train_data)\n",
        "train_labels = np.int32(train_labels)\n",
        "\n",
        "# LBP 얼굴인식기 생성 및 훈련 ---⑤\n",
        "print('Starting LBP Model training...')\n",
        "model = cv2.face.LBPHFaceRecognizer_create()\n",
        "model.train(train_data, train_labels)\n",
        "model.write('./faces/all_face.xml')\n",
        "print(\"Model trained successfully!\")"
      ],
      "metadata": {
        "id": "IuN8ChxHdb_j"
      },
      "execution_count": null,
      "outputs": []
    },
    {
      "cell_type": "code",
      "source": [
        "!python lbp_face3_recognize.py"
      ],
      "metadata": {
        "id": "JcGG_qrg3NWv"
      },
      "execution_count": null,
      "outputs": []
    },
    {
      "cell_type": "markdown",
      "source": [
        "##9.7 실전 워크숍"
      ],
      "metadata": {
        "id": "yiWa1smxTKw0"
      }
    },
    {
      "cell_type": "markdown",
      "source": [
        "### 9.7.1 얼굴 모자이크"
      ],
      "metadata": {
        "id": "0U31ah-URMWq"
      }
    },
    {
      "cell_type": "code",
      "source": [
        "!python workshop_face_mosaic.py"
      ],
      "metadata": {
        "id": "wMkk8y2u3Vg1"
      },
      "execution_count": null,
      "outputs": []
    },
    {
      "cell_type": "code",
      "source": [
        "import cv2\n",
        "import numpy as np\n",
        "import os, glob\n",
        "\n",
        "# 변수 설정 ---①\n",
        "base_dir = './faces'\n",
        "min_accuracy = 85\n",
        "\n",
        "# LBP 얼굴 인식기 및 케스케이드 얼굴 검출기 생성 및 훈련 모델 읽기 ---②\n",
        "face_classifier = cv2.CascadeClassifier(\\\n",
        "                './data/haarcascade_frontalface_default.xml')\n",
        "model = cv2.face.LBPHFaceRecognizer_create()\n",
        "model.read(os.path.join(base_dir, 'all_face.xml'))\n",
        "\n",
        "# 디렉토리 이름으로 사용자 이름과 아이디 매핑 정보 생성 ---③\n",
        "dirs = [d for d in glob.glob(base_dir+\"/*\") if os.path.isdir(d)]\n",
        "names = dict([])\n",
        "for dir in dirs:\n",
        "    dir = os.path.basename(dir)\n",
        "    name, id = dir.split('_')\n",
        "    names[int(id)] = name\n",
        "\n",
        "# 카메라 캡처 장치 준비\n",
        "cap = cv2.VideoCapture(0)\n",
        "while cap.isOpened():\n",
        "    ret, frame = cap.read()\n",
        "    if not ret:\n",
        "        print(\"no frame\")\n",
        "        break\n",
        "    gray = cv2.cvtColor(frame,cv2.COLOR_BGR2GRAY)\n",
        "    # 얼굴 검출 ---④\n",
        "    faces = face_classifier.detectMultiScale(gray, 1.3, 5)\n",
        "    for (x,y,w,h) in faces:\n",
        "        # 얼굴 영역 표시하고 샘플과 같은 크기로 축소 ---⑤\n",
        "        cv2.rectangle(frame,(x,y),(x+w,y+h),(0,255,255),2)\n",
        "        face = frame[y:y+h, x:x+w]\n",
        "        face = cv2.resize(face, (200, 200))\n",
        "        face = cv2.cvtColor(face, cv2.COLOR_BGR2GRAY)\n",
        "        # LBP 얼굴 인식기로 예측 ---⑥\n",
        "        label, confidence = model.predict(face)\n",
        "        if confidence < 400:\n",
        "            # 정확도 거리를 퍼센트로 변환 ---⑦\n",
        "            accuracy = int( 100 * (1 -confidence/400))\n",
        "            if accuracy >= min_accuracy:\n",
        "                msg =  '%s(%.0f%%)'%(names[label], accuracy)\n",
        "            else:\n",
        "                msg = 'Unknown'\n",
        "        # 사용자 이름과 정확도 결과 출력 ---⑧\n",
        "        txt, base = cv2.getTextSize(msg, cv2.FONT_HERSHEY_PLAIN, 1, 3)\n",
        "        cv2.rectangle(frame, (x,y-base-txt[1]), (x+txt[0], y+txt[1]), \\\n",
        "                    (0,255,255), -1)\n",
        "        cv2.putText(frame, msg, (x, y), cv2.FONT_HERSHEY_PLAIN, 1, \\\n",
        "                    (200,200,200), 2,cv2.LINE_AA)\n",
        "    #cv2.imshow('Face Recognition', frame)\n",
        "    cv2_imshow(frame)\n",
        "    if cv2.waitKey(1) == 27: #esc\n",
        "        break\n",
        "cap.release()\n",
        "cv2.destroyAllWindows()"
      ],
      "metadata": {
        "id": "xN9jIfkGdlS7"
      },
      "execution_count": null,
      "outputs": []
    },
    {
      "cell_type": "markdown",
      "source": [
        "### 9.7.2 한니발 마스크 필터 만들기"
      ],
      "metadata": {
        "id": "KUZe3Lb3RVGn"
      }
    },
    {
      "cell_type": "code",
      "source": [
        "!python workshop_hannibal_mask.py"
      ],
      "metadata": {
        "id": "4OWgpXAy3VW6"
      },
      "execution_count": null,
      "outputs": []
    },
    {
      "cell_type": "code",
      "source": [
        "import cv2\n",
        "import numpy as np\n",
        "\n",
        "# 마스크 이미지 읽기\n",
        "face_mask = cv2.imread('../img/mask_hannibal.png')\n",
        "h_mask, w_mask = face_mask.shape[:2]\n",
        "# 얼굴 검출기 생성\n",
        "face_cascade = cv2.CascadeClassifier('./data/haarcascade_frontalface_alt.xml')\n",
        "\n",
        "cap = cv2.VideoCapture(0)\n",
        "while True:\n",
        "    ret, frame = cap.read()\n",
        "    gray = cv2.cvtColor(frame, cv2.COLOR_BGR2GRAY)\n",
        "\t# 얼굴 영역 검출\n",
        "    face_rects = face_cascade.detectMultiScale(gray, 1.3, 5)\n",
        "    for (x,y,w,h) in face_rects:\n",
        "        if h > 0 and w > 0:\n",
        "        \t\t# 마스크 위치 보정\n",
        "            x = int(x + 0.1*w)\n",
        "            y = int(y + 0.4*h)\n",
        "            w = int(0.8 * w)\n",
        "            h = int(0.8 * h)\n",
        "\n",
        "            frame_roi = frame[y:y+h, x:x+w]\n",
        "            # 마스크 이미지를 얼굴 크기에 맞게 조정\n",
        "            face_mask_small = cv2.resize(face_mask, (w, h), \\\n",
        "                                interpolation=cv2.INTER_AREA)\n",
        "\t\t\t# 마스크 이미지 합성\n",
        "            gray_mask = cv2.cvtColor(face_mask_small, cv2.COLOR_BGR2GRAY)\n",
        "            ret, mask = cv2.threshold(gray_mask, 50, 255, cv2.THRESH_BINARY)\n",
        "            mask_inv = cv2.bitwise_not(mask)\n",
        "            masked_face = cv2.bitwise_and(face_mask_small, face_mask_small,\\\n",
        "                                         mask=mask)\n",
        "            masked_frame = cv2.bitwise_and(frame_roi, frame_roi, mask=mask_inv)\n",
        "            frame[y:y+h, x:x+w] = cv2.add(masked_face, masked_frame)\n",
        "\n",
        "    cv2.imshow('Hanibal Mask', frame)\n",
        "    if cv2.waitKey(1) == 27:\n",
        "        break\n",
        "cap.release()\n",
        "cv2.destroyAllWindows()"
      ],
      "metadata": {
        "id": "Z28J29rUd_zY"
      },
      "execution_count": null,
      "outputs": []
    },
    {
      "cell_type": "markdown",
      "source": [
        "### 9.7.3 얼굴 왜곡 필터 만들기"
      ],
      "metadata": {
        "id": "BQ4tlzSCRdTP"
      }
    },
    {
      "cell_type": "code",
      "source": [
        "!python workshop_face_distotion_camera.py"
      ],
      "metadata": {
        "id": "Ap4sxgT53VTs"
      },
      "execution_count": null,
      "outputs": []
    },
    {
      "cell_type": "code",
      "source": [
        "import cv2\n",
        "import numpy as np\n",
        "\n",
        "# 얼굴과 눈동자 검출기 생성\n",
        "face_cascade = cv2.CascadeClassifier('./data/haarcascade_frontalface_default.xml')\n",
        "eye_cascade = cv2.CascadeClassifier('./data/haarcascade_eye.xml')\n",
        "\n",
        "# 렌즈 왜곡 효과 함수\n",
        "def distortedMap(rows, cols, type=0):\n",
        "    map_y, map_x = np.indices((rows, cols), dtype=np.float32)\n",
        "    # 렌즈 효과\n",
        "    ## 렌즈 효과, 중심점 이동\n",
        "    map_lenz_x = (2*map_x - cols)/cols\n",
        "    map_lenz_y = (2*map_y - rows)/rows\n",
        "    ## 렌즈 효과, 극좌표 변환\n",
        "    r, theta = cv2.cartToPolar(map_lenz_x, map_lenz_y)\n",
        "    if type==0:\n",
        "    ## 볼록 렌즈 효과 매핑 좌표 연산\n",
        "        r[r< 1] = r[r<1] **3\n",
        "    else:\n",
        "    ## 오목 렌즈 효과 매핑 좌표 연산\n",
        "        r[r< 1] = r[r<1] **0.5\n",
        "    ## 렌즈 효과, 직교 좌표 복원\n",
        "    mapx, mapy = cv2.polarToCart(r, theta)\n",
        "    ## 렌즈 효과, 좌상단 좌표 복원\n",
        "    mapx = ((mapx + 1)*cols)/2\n",
        "    mapy = ((mapy + 1)*rows)/2\n",
        "    return (mapx, mapy)\n",
        "\n",
        "# 얼굴 검출 함수\n",
        "def findFaces(img):\n",
        "    gray = cv2.cvtColor(img, cv2.COLOR_BGR2GRAY)\n",
        "    faces = face_cascade.detectMultiScale(gray)\n",
        "    face_coords = []\n",
        "    for (x,y,w,h) in faces:\n",
        "        face_coords.append((x, y, w, h))\n",
        "    return face_coords\n",
        "# 눈 검출 함수\n",
        "def findEyes(img):\n",
        "    gray = cv2.cvtColor(img, cv2.COLOR_BGR2GRAY)\n",
        "    faces = face_cascade.detectMultiScale(gray)\n",
        "    eyes_coords = []\n",
        "    for (x,y,w,h) in faces:\n",
        "        roi_gray = gray[y:y+h, x:x+w]\n",
        "        eyes = eye_cascade.detectMultiScale(roi_gray )\n",
        "        for(ex,ey,ew,eh) in eyes:\n",
        "            eyes_coords.append((ex+x,ey+y,ew,eh))\n",
        "    return eyes_coords\n",
        "\n",
        "\n",
        "cap = cv2.VideoCapture(0)\n",
        "cap.set(cv2.CAP_PROP_FRAME_WIDTH, 480)\n",
        "cap.set(cv2.CAP_PROP_FRAME_HEIGHT, 320)\n",
        "\n",
        "while True:\n",
        "    ret, frame = cap.read()\n",
        "    img1 = frame.copy()\n",
        "    img2 = frame.copy()\n",
        "    # 얼굴 검출해서 오목/볼록 렌즈 효과로 왜곡 적용\n",
        "    faces = findFaces(frame)\n",
        "    for face in faces:\n",
        "        x,y,w,h = face\n",
        "        mapx, mapy = distortedMap(w,h, 1)\n",
        "        roi = img1[y:y+h, x:x+w]\n",
        "        convex = cv2.remap(roi,mapx,mapy,cv2.INTER_LINEAR)\n",
        "        img1[y:y+h, x:x+w] = convex\n",
        "    # 눈 영역 검출해서 볼록 렌즈 효과로 왜곡 적용\n",
        "    eyes = findEyes(frame)\n",
        "    for eye in eyes :\n",
        "        x,y,w,h = eye\n",
        "        mapx, mapy = distortedMap(w,h)\n",
        "        roi = img2[y:y+h, x:x+w]\n",
        "        convex = cv2.remap(roi,mapx,mapy,cv2.INTER_LINEAR)\n",
        "        img2[y:y+h, x:x+w] = convex\n",
        "    # 하나의 이미지로 병합해서 출력\n",
        "    merged = np.hstack((frame, img1, img2))\n",
        "    #cv2.imshow('Face Distortion', merged)\n",
        "    cv2_imshow(merged)\n",
        "    if cv2.waitKey(1) == 27:\n",
        "        break\n",
        "cv2.destroyAllWindows()"
      ],
      "metadata": {
        "id": "OSfBee_0eG9Y"
      },
      "execution_count": null,
      "outputs": []
    },
    {
      "cell_type": "code",
      "source": [
        "%cd /content/insightbook.opencv_project_python/10.apdx"
      ],
      "metadata": {
        "id": "kXR0DoF3LKET"
      },
      "execution_count": null,
      "outputs": []
    },
    {
      "cell_type": "code",
      "source": [
        "!python face_landmark.py"
      ],
      "metadata": {
        "id": "n3BrXtome4sh"
      },
      "execution_count": null,
      "outputs": []
    },
    {
      "cell_type": "code",
      "source": [
        "import cv2\n",
        "import dlib\n",
        "\n",
        "# 얼굴 검출기와 랜드마크 검출기 생성 --- ①\n",
        "detector = dlib.get_frontal_face_detector()\n",
        "predictor = dlib.shape_predictor('./shape_predictor_68_face_landmarks.dat')\n",
        "\n",
        "img = cv2.imread(\"../img/man_face.jpg\")\n",
        "gray = cv2.cvtColor(img, cv2.COLOR_BGR2GRAY)\n",
        "# 얼굴 영역 검출 --- ②\n",
        "faces = detector(gray)\n",
        "for rect in faces:\n",
        "    # 얼굴 영역을 좌표로 변환 후 사각형 표시 --- ③\n",
        "    x,y = rect.left(), rect.top()\n",
        "    w,h = rect.right()-x, rect.bottom()-y\n",
        "    cv2.rectangle(img, (x, y), (x + w, y + h), (0, 255, 0), 1)\n",
        "\n",
        "    # 얼굴 랜드마크 검출 --- ④\n",
        "    shape = predictor(gray, rect)\n",
        "    for i in range(68):\n",
        "        # 부위별 좌표 추출 및 표시 --- ⑤\n",
        "        part = shape.part(i)\n",
        "        cv2.circle(img, (part.x, part.y), 2, (0, 0, 255), -1)\n",
        "        cv2.putText(img, str(i), (part.x, part.y), cv2.FONT_HERSHEY_PLAIN, \\\n",
        "                                         0.5,(255,255,255), 1, cv2.LINE_AA)\n",
        "\n",
        "#cv2.imshow(\"face landmark\", img)\n",
        "cv2_imshow(img)\n",
        "cv2.waitKey(0)"
      ],
      "metadata": {
        "id": "QYpTuOrhfAWP"
      },
      "execution_count": null,
      "outputs": []
    },
    {
      "cell_type": "code",
      "source": [
        "!python face_landmark_cam.py"
      ],
      "metadata": {
        "id": "dWESDI0JgvCG"
      },
      "execution_count": null,
      "outputs": []
    },
    {
      "cell_type": "code",
      "source": [
        "import cv2\n",
        "import dlib\n",
        "\n",
        "# 얼굴 검출기와 랜드마크 검출기 생성 --- ①\n",
        "detector = dlib.get_frontal_face_detector()\n",
        "predictor = dlib.shape_predictor('./shape_predictor_68_face_landmarks.dat')\n",
        "\n",
        "cap = cv2.VideoCapture(0)\n",
        "#cap.set(cv2.cv2.CAP_PROP_FRAME_WIDTH, 480)\n",
        "#cap.set(cv2.cv2.CAP_PROP_FRAME_HEIGHT, 320)\n",
        "\n",
        "while cap.isOpened():\n",
        "    ret, img = cap.read()\n",
        "    if not ret:\n",
        "        print('no frame.');break\n",
        "    gray = cv2.cvtColor(img, cv2.COLOR_BGR2GRAY)\n",
        "    # 얼굴 영역 검출 --- ②\n",
        "    faces = detector(gray)\n",
        "    for rect in faces:\n",
        "        # 얼굴 영역을 좌표로 변환 후 사각형 표시 --- ③\n",
        "        x,y = rect.left(), rect.top()\n",
        "        w,h = rect.right()-x, rect.bottom()-y\n",
        "        cv2.rectangle(img, (x, y), (x + w, y + h), (0, 255, 0), 1)\n",
        "\n",
        "        # 얼굴 랜드마크 검출 --- ④\n",
        "        shape = predictor(gray, rect)\n",
        "        for i in range(68):\n",
        "            # 부위별 좌표 추출 및 표시 --- ⑤\n",
        "            part = shape.part(i)\n",
        "            cv2.circle(img, (part.x, part.y), 2, (0, 0, 255), -1)\n",
        "            #cv2.putText(img, str(i), (part.x, part.y), cv2.FONT_HERSHEY_PLAIN, 0.5,(255,255,255), 1, cv2.LINE_AA)\n",
        "\n",
        "    #cv2.imshow(\"face landmark\", img)\n",
        "    cv2_imshow(img)\n",
        "    if cv2.waitKey(1)== 27:\n",
        "        break\n",
        "cap.release()"
      ],
      "metadata": {
        "id": "pHUXzGVzgyjZ"
      },
      "execution_count": null,
      "outputs": []
    },
    {
      "cell_type": "code",
      "source": [
        "!python face_delauney_triangle.py"
      ],
      "metadata": {
        "id": "RyGnBRIDfB4p"
      },
      "execution_count": null,
      "outputs": []
    },
    {
      "cell_type": "code",
      "source": [
        "import cv2\n",
        "import numpy as np\n",
        "import dlib\n",
        "\n",
        "# 얼굴 검출기와 랜드마크 검출기 생성 --- ①\n",
        "detector = dlib.get_frontal_face_detector()\n",
        "predictor = dlib.shape_predictor('./shape_predictor_68_face_landmarks.dat')\n",
        "\n",
        "img = cv2.imread(\"../img/man_face.jpg\")\n",
        "h, w = img.shape[:2]\n",
        "gray = cv2.cvtColor(img, cv2.COLOR_BGR2GRAY)\n",
        "# 얼굴 영역 검출 --- ②\n",
        "rects = faces = detector(gray)\n",
        "\n",
        "points = []\n",
        "for rect in rects:\n",
        "    # 랜드마크 검출 --- ③\n",
        "    shape = predictor(gray, rect)\n",
        "    for i in range(68):\n",
        "        part = shape.part(i)\n",
        "        points.append((part.x, part.y))\n",
        "\n",
        "\n",
        "# 들로네 삼각 분할 객체 생성 --- ④\n",
        "x,y,w,h = cv2.boundingRect(np.float32(points))\n",
        "subdiv = cv2.Subdiv2D((x,y,x+w,y+h))\n",
        "# 랜드마크 좌표 추가 --- ⑤\n",
        "subdiv.insert(points)\n",
        "# 들로네 삼각형 좌표 계산 --- ⑥\n",
        "triangleList = subdiv.getTriangleList()\n",
        "# 들로네 삼각형 그리기 --- ⑦\n",
        "h, w = img.shape[:2]\n",
        "cnt = 0\n",
        "for t in triangleList :\n",
        "    pts = t.reshape(-1,2).astype(np.int32)\n",
        "    # 좌표 중에 이미지 영역을 벗어나는 것을 제외(음수 등) ---⑧\n",
        "    if (pts < 0).sum() or (pts[:, 0] > w).sum() or (pts[:, 1] > h).sum():\n",
        "        print(pts)\n",
        "        continue\n",
        "    cv2.polylines(img, [pts], True, (255, 255,255), 1, cv2.LINE_AA)\n",
        "    cnt+=1\n",
        "print(cnt)\n",
        "\n",
        "\n",
        "#cv2.imshow(\"Delaunay\",img)\n",
        "cv2_imshow(img)\n",
        "cv2.waitKey(0)"
      ],
      "metadata": {
        "id": "gkp_9VmbfeE5"
      },
      "execution_count": null,
      "outputs": []
    },
    {
      "cell_type": "code",
      "source": [
        "!python face_swap.py"
      ],
      "metadata": {
        "id": "kRUycaGFgJ6u"
      },
      "execution_count": null,
      "outputs": []
    },
    {
      "cell_type": "code",
      "source": [
        "import cv2\n",
        "import numpy as np\n",
        "import dlib\n",
        "import sys\n",
        "\n",
        "# 얼굴 검출기와 랜드마크 검출기 생성 --- ①\n",
        "detector = dlib.get_frontal_face_detector()\n",
        "predictor = dlib.shape_predictor('./shape_predictor_68_face_landmarks.dat')\n",
        "\n",
        "# 얼굴 및 랜드마크 검출해서 좌표 반환하는 함수 ---②\n",
        "def getPoints(img):\n",
        "    gray = cv2.cvtColor(img, cv2.COLOR_BGR2GRAY)\n",
        "    rects = detector(gray)\n",
        "    points = []\n",
        "    for rect in rects:\n",
        "        shape = predictor(gray, rect)\n",
        "        for i in range(68):\n",
        "            part = shape.part(i)\n",
        "            points.append((part.x, part.y))\n",
        "    return points\n",
        "# 랜드마크 좌표로 들로네 삼각형 반환 ---③\n",
        "def getTriangles(img, points):\n",
        "    w,h = img2.shape[:2]\n",
        "    subdiv = cv2.Subdiv2D((0,0,w,h));\n",
        "    subdiv.insert(points)\n",
        "    triangleList = subdiv.getTriangleList();\n",
        "    triangles = []\n",
        "    for t in triangleList:\n",
        "        pt = t.reshape(-1,2)\n",
        "        if not (pt < 0).sum() and not (pt[:, 0] > w).sum() \\\n",
        "                              and not (pt[:, 1] > h).sum():\n",
        "            indice = []\n",
        "            for i in range(0, 3):\n",
        "                for j in range(0, len(points)):\n",
        "                    if(abs(pt[i][0] - points[j][0]) < 1.0 \\\n",
        "                        and abs(pt[i][1] - points[j][1]) < 1.0):\n",
        "                        indice.append(j)\n",
        "            if len(indice) == 3:\n",
        "                triangles.append(indice)\n",
        "    return triangles\n",
        "\n",
        "# 삼각형 어핀 변환 함수 ---④\n",
        "def warpTriangle(img1, img2, pts1, pts2):\n",
        "    x1,y1,w1,h1 = cv2.boundingRect(np.float32([pts1]))\n",
        "    x2,y2,w2,h2 = cv2.boundingRect(np.float32([pts2]))\n",
        "\n",
        "    roi1 = img1[y1:y1+h1, x1:x1+w1]\n",
        "    roi2 = img2[y2:y2+h2, x2:x2+w2]\n",
        "\n",
        "    offset1 = np.zeros((3,2), dtype=np.float32)\n",
        "    offset2 = np.zeros((3,2), dtype=np.float32)\n",
        "    for i in range(3):\n",
        "        offset1[i][0], offset1[i][1] = pts1[i][0]-x1, pts1[i][1]-y1\n",
        "        offset2[i][0], offset2[i][1] = pts2[i][0]-x2, pts2[i][1]-y2\n",
        "\n",
        "    mtrx = cv2.getAffineTransform(offset1, offset2)\n",
        "    warped = cv2.warpAffine( roi1, mtrx, (w2, h2), None, \\\n",
        "                        cv2.INTER_LINEAR, cv2.BORDER_REFLECT_101 )\n",
        "\n",
        "    mask = np.zeros((h2, w2), dtype = np.uint8)\n",
        "    cv2.fillConvexPoly(mask, np.int32(offset2), (255))\n",
        "\n",
        "    warped_masked = cv2.bitwise_and(warped, warped, mask=mask)\n",
        "    roi2_masked = cv2.bitwise_and(roi2, roi2, mask=cv2.bitwise_not(mask))\n",
        "    roi2_masked = roi2_masked + warped_masked\n",
        "    img2[y2:y2+h2, x2:x2+w2] = roi2_masked\n",
        "\n",
        "if __name__ == '__main__' :\n",
        "    # 이미지 읽기 ---⑤\n",
        "    img1 = cv2.imread('../img/boy_face.jpg')\n",
        "    img2 = cv2.imread('../img/girl_face.jpg')\n",
        "    cv2.imshow('img1', img1)\n",
        "    cv2.imshow('img2', img2)\n",
        "    img_draw = img2.copy()\n",
        "    # 각 이미지에서 얼굴 랜드마크 좌표 구하기--- ⑥\n",
        "    points1 = getPoints(img1)\n",
        "    points2 = getPoints(img2)\n",
        "    # 랜드마크 좌표로 볼록 선체 구하기 --- ⑦\n",
        "    hullIndex = cv2.convexHull(np.array(points2), returnPoints = False)\n",
        "    hull1 = [points1[int(idx)] for idx in hullIndex]\n",
        "    hull2 = [points2[int(idx)] for idx in hullIndex]\n",
        "    # 볼록 선체 안 들로네 삼각형 좌표 구하기 ---⑧\n",
        "    triangles = getTriangles(img2, hull2)\n",
        "\n",
        "    # 각 삼각형 좌표로 삼각형 어핀 변환 ---⑨\n",
        "    for i in range(0, len(triangles)):\n",
        "        t1 = [hull1[triangles[i][j]] for j in range(3)]\n",
        "        t2 = [hull2[triangles[i][j]] for j in range(3)]\n",
        "        warpTriangle(img1, img_draw, t1, t2)\n",
        "    # 볼록선체를 마스크로 써서 얼굴 합성 ---⑩\n",
        "    mask = np.zeros(img2.shape, dtype = img2.dtype)\n",
        "    cv2.fillConvexPoly(mask, np.int32(hull2), (255, 255, 255))\n",
        "    r = cv2.boundingRect(np.float32([hull2]))\n",
        "    center = ((r[0]+int(r[2]/2), r[1]+int(r[3]/2)))\n",
        "    output = cv2.seamlessClone(np.uint8(img_draw), img2, mask, center, \\\n",
        "                                cv2.NORMAL_CLONE)\n",
        "\n",
        "    #cv2.imshow(\"Face Swapped\", output)\n",
        "    cv2_imshow(output)\n",
        "    cv2.waitKey(0)\n",
        "    cv2.destroyAllWindows()"
      ],
      "metadata": {
        "id": "3TNCo3vUgTv6"
      },
      "execution_count": null,
      "outputs": []
    }
  ]
}